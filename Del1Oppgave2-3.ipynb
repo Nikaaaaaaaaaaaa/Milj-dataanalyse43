{
 "cells": [
  {
   "cell_type": "markdown",
   "metadata": {},
   "source": [
    "Del 1 Oppgave 2\n"
   ]
  },
  {
   "cell_type": "code",
   "execution_count": null,
   "metadata": {},
   "outputs": [],
   "source": []
  }
 ],
 "metadata": {
  "language_info": {
   "name": "python"
  }
 },
 "nbformat": 4,
 "nbformat_minor": 2
}
