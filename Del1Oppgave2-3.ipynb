{
 "cells": [
  {
   "cell_type": "markdown",
   "metadata": {},
   "source": [
    "Del 1 Oppgave 2\n"
   ]
  },
  {
   "cell_type": "code",
   "execution_count": null,
   "metadata": {},
   "outputs": [],
   "source": [
    "\n",
    "import requests\n",
    "import json\n",
    "response = requests.get(\"https://www.eea.europa.eu/en/analysis\")\n",
    "print(response.status_code)\n",
    "\n",
    "# def jprint(obj):  \n",
    "#     text = json.dumps(obj, sort_keys=True, indent=4) \n",
    "#     print(text) \n",
    "\n",
    "# jprint(response.json())\n"
   ]
  }
 ],
 "metadata": {
  "language_info": {
   "name": "python"
  }
 },
 "nbformat": 4,
 "nbformat_minor": 2
}
