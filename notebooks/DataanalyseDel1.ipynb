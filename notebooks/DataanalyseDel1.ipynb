{
 "cells": [
  {
   "cell_type": "markdown",
   "id": "aef03b76",
   "metadata": {},
   "source": [
    "# Miljødataanalyse - Del 1, Oppgave 2."
   ]
  },
  {
   "cell_type": "code",
   "execution_count": 1,
   "id": "8747e3a7",
   "metadata": {},
   "outputs": [
    {
     "name": "stdout",
     "output_type": "stream",
     "text": [
      "c:\\Users\\betja\\OneDrive - NTNU\\2025VårProgrammering\\Milj-dataanalyse43\\notebooks\n"
     ]
    }
   ],
   "source": [
    "# Sjekk directory\n",
    "import os\n",
    "print(os.getcwd())"
   ]
  },
  {
   "cell_type": "code",
   "execution_count": null,
   "id": "e9a5b96b",
   "metadata": {},
   "outputs": [
    {
     "name": "stdout",
     "output_type": "stream",
     "text": [
      "200\n"
     ]
    },
    {
     "data": {
      "text/plain": [
       "'\\nSååå, hvis jeg forstå riktig... -vi skal laste ned/hente data fra eea eller anndre organsisasjoner,\\n'"
      ]
     },
     "execution_count": 7,
     "metadata": {},
     "output_type": "execute_result"
    }
   ],
   "source": [
    "#Oppgave 2 Setup\n",
    "import requests\n",
    "import json\n",
    "response = requests.get(\"https://www.eea.europa.eu/en/analysis\")\n",
    "print(response.status_code)\n",
    "\n",
    "# def jprint(obj):  \n",
    "#     text = json.dumps(obj, sort_keys=True, indent=4) \n",
    "#     print(text) \n",
    "\n",
    "# jprint(response.json())\n",
    "\n",
    "''' \n",
    "# https://sdi.eea.europa.eu/datashare/s/ajHa7SJcjiXtnPo/download\n",
    "#Net greenhouse gass emissions - direct download - csv file - ... - copy direct link\n",
    "\n",
    "#Alternativ 1\n",
    "import requests\n",
    "url = \"https://sdi.eea.europa.eu/datashare/s/ajHa7SJcjiXtnPo/download\"\n",
    "query_parameters = {\"downloadformat\": \"csv\"}\n",
    "response = requests.get(url, params=query_parameters)\n",
    "'''\n",
    "\n",
    "#Alternativ 2\n",
    "import requests\n",
    "def download_large_file(url, destination):\n",
    "    try:\n",
    "        with requests.get(url, stream=True) as response:\n",
    "            response.raise_for_status()\n",
    "            with open(destination, 'wb') as f:\n",
    "                for chunk in response.iter_content(chunk_size=8192):\n",
    "                    f.write(chunk)\n",
    "        print(\"File downloaded successfully!\")\n",
    "    except requests.exceptions.RequestException as e:\n",
    "        print(\"Error downloading the file:\", e)\n",
    "\n",
    "url = 'https://sdi.eea.europa.eu/datashare/s/ajHa7SJcjiXtnPo/download'\n",
    "save_path = '../data/greenhouse_gass_emissions.csv'\n",
    "download_large_file(url, save_path)\n",
    "\n",
    "\n",
    "\n",
    "'''\n",
    "Sååå, hvis jeg forstå riktig... -vi skal laste ned/hente data fra eea eller anndre organsisasjoner,\n",
    "og så lagre de inn på data som JSON eller CSV?\n",
    "'''\n",
    "\n"
   ]
  },
  {
   "cell_type": "code",
   "execution_count": null,
   "id": "feae5bca",
   "metadata": {},
   "outputs": [],
   "source": []
  }
 ],
 "metadata": {
  "kernelspec": {
   "display_name": "Python 3",
   "language": "python",
   "name": "python3"
  },
  "language_info": {
   "codemirror_mode": {
    "name": "ipython",
    "version": 3
   },
   "file_extension": ".py",
   "mimetype": "text/x-python",
   "name": "python",
   "nbconvert_exporter": "python",
   "pygments_lexer": "ipython3",
   "version": "3.13.1"
  }
 },
 "nbformat": 4,
 "nbformat_minor": 5
}
