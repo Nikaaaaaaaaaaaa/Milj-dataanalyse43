{
 "cells": [
  {
   "cell_type": "markdown",
   "id": "aef03b76",
   "metadata": {},
   "source": [
    "# Miljødataanalyse - Del 1, Oppgave 2."
   ]
  },
  {
   "cell_type": "code",
   "execution_count": 1,
   "id": "8747e3a7",
   "metadata": {},
   "outputs": [
    {
     "name": "stdout",
     "output_type": "stream",
     "text": [
      "c:\\Users\\betja\\OneDrive - NTNU\\2025VårProgrammering\\Milj-dataanalyse43\\notebooks\n"
     ]
    }
   ],
   "source": [
    "# Sjekk directory\n",
    "import os\n",
    "print(os.getcwd())"
   ]
  },
  {
   "cell_type": "code",
   "execution_count": null,
   "id": "e9a5b96b",
   "metadata": {},
   "outputs": [
    {
     "name": "stdout",
     "output_type": "stream",
     "text": [
      "200\n"
     ]
    },
    {
     "data": {
      "text/plain": [
       "'\\nSååå, hvis jeg forstå riktig... -vi skal laste ned/hente data fra eea eller anndre organsisasjoner,\\n'"
      ]
     },
     "execution_count": 7,
     "metadata": {},
     "output_type": "execute_result"
    }
   ],
   "source": [
    "#Oppgave 2 Setup\n",
    "import requests\n",
    "import json\n",
    "response = requests.get(\"https://www.eea.europa.eu/en/analysis\")\n",
    "print(response.status_code)\n",
    "\n",
    "# def jprint(obj):  \n",
    "#     text = json.dumps(obj, sort_keys=True, indent=4) \n",
    "#     print(text) \n",
    "\n",
    "# jprint(response.json())\n",
    "\n",
    "\n",
    "'''\n",
    "Sååå, hvis jeg forstå riktig... -vi skal laste ned/hente data fra eea eller anndre organsisasjoner,\n",
    "og så lagre de inn på data som JSON eller CSV?\n",
    "'''"
   ]
  },
  {
   "cell_type": "code",
   "execution_count": null,
   "id": "feae5bca",
   "metadata": {},
   "outputs": [],
   "source": []
  }
 ],
 "metadata": {
  "kernelspec": {
   "display_name": "Python 3",
   "language": "python",
   "name": "python3"
  },
  "language_info": {
   "codemirror_mode": {
    "name": "ipython",
    "version": 3
   },
   "file_extension": ".py",
   "mimetype": "text/x-python",
   "name": "python",
   "nbconvert_exporter": "python",
   "pygments_lexer": "ipython3",
   "version": "3.13.1"
  }
 },
 "nbformat": 4,
 "nbformat_minor": 5
}
