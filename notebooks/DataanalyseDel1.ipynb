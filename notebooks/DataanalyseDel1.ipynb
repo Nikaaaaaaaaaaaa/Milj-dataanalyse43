{
 "cells": [
  {
   "cell_type": "markdown",
   "id": "aef03b76",
   "metadata": {},
   "source": [
    "# Miljødataanalyse - Del 1, Oppgave 2."
   ]
  },
  {
   "cell_type": "code",
   "execution_count": 1,
   "id": "8747e3a7",
   "metadata": {},
   "outputs": [
    {
     "name": "stdout",
     "output_type": "stream",
     "text": [
      "c:\\Users\\betja\\OneDrive - NTNU\\2025VårProgrammering\\Milj-dataanalyse43\\notebooks\n"
     ]
    }
   ],
   "source": [
    "# Sjekk directory\n",
    "import os\n",
    "print(os.getcwd())"
   ]
  },
  {
   "cell_type": "code",
<<<<<<< HEAD
   "execution_count": null,
   "id": "e9a5b96b",
   "metadata": {},
   "outputs": [
    {
     "name": "stdout",
     "output_type": "stream",
     "text": [
      "200\n"
     ]
    },
    {
     "data": {
      "text/plain": [
       "'\\nSååå, hvis jeg forstå riktig... -vi skal laste ned/hente data fra eea eller anndre organsisasjoner,\\n'"
      ]
     },
     "execution_count": 7,
     "metadata": {},
     "output_type": "execute_result"
    }
   ],
   "source": [
    "#Oppgave 2 Setup\n",
    "import requests\n",
    "import json\n",
    "response = requests.get(\"https://www.eea.europa.eu/en/analysis\")\n",
    "print(response.status_code)\n",
    "\n",
    "# def jprint(obj):  \n",
    "#     text = json.dumps(obj, sort_keys=True, indent=4) \n",
    "#     print(text) \n",
    "\n",
    "# jprint(response.json())\n",
    "\n",
    "''' \n",
    "# https://sdi.eea.europa.eu/datashare/s/ajHa7SJcjiXtnPo/download\n",
    "#Net greenhouse gass emissions - direct download - csv file - ... - copy direct link\n",
    "\n",
    "#Alternativ 1\n",
    "import requests\n",
    "url = \"https://sdi.eea.europa.eu/datashare/s/ajHa7SJcjiXtnPo/download\"\n",
    "query_parameters = {\"downloadformat\": \"csv\"}\n",
    "response = requests.get(url, params=query_parameters)\n",
    "'''\n",
    "\n",
    "#Alternativ 2\n",
    "def download_large_file(url, destination):\n",
    "    try:\n",
    "        with requests.get(url, stream=True) as response:\n",
    "            response.raise_for_status()\n",
    "            with open(destination, 'wb') as f:\n",
    "                for chunk in response.iter_content(chunk_size=8192):\n",
    "                    f.write(chunk)\n",
    "        print(\"File downloaded successfully!\")\n",
    "    except requests.exceptions.RequestException as e:\n",
    "        print(\"Error downloading the file:\", e)\n",
    "\n",
    "url = 'https://sdi.eea.europa.eu/datashare/s/ajHa7SJcjiXtnPo/download'\n",
    "save_path = '../data/greenhouse_gass_emissions.csv'\n",
    "download_large_file(url, save_path)\n",
    "\n",
    "\n",
    "\n",
    "'''\n",
    "Sååå, hvis jeg forstå riktig... -vi skal laste ned/hente data fra eea eller anndre organsisasjoner,\n",
    "og så lagre de inn på data som JSON eller CSV?\n",
    "'''\n",
    "requests.get(\"https://api.met.no/weatherapi/locationforecast/2.0/compact?lat=60.10&lon=9.58\") \n",
    "\n",
    "\n"
   ]
  },
  {
   "cell_type": "code",
   "execution_count": null,
=======
   "execution_count": 2,
>>>>>>> d981062e5e485670cf181fb340fbb5ad15ded938
   "id": "feae5bca",
   "metadata": {},
   "outputs": [
    {
     "name": "stdout",
     "output_type": "stream",
     "text": [
<<<<<<< HEAD
      "Temperature: 7.2 °C\n",
      "Wind: 1.12\n",
      "Pressure:  1020\n",
      "Humidity:  59\n",
      "Description: overcast clouds\n"
=======
      "Temperature: 8.31 °C\n",
      "Wind: 2.06\n",
      "Pressure:  1017\n",
      "Humidity:  50\n",
      "Description: broken clouds\n"
>>>>>>> d981062e5e485670cf181fb340fbb5ad15ded938
     ]
    }
   ],
   "source": [
    "import requests\n",
    "import os\n",
    "from dotenv import load_dotenv\n",
    "#Laster inn informasjonen fra .env filen.\n",
    "load_dotenv()\n",
    "\n",
    "#Atributten api_key henter informasjon fra .env, hvor vi har den tilsvarende API_KEY.\n",
    "api_key = os.getenv('API_KEY')\n",
    "\n",
    "city = 'Oslo'\n",
    "\n",
    "api_key = os.getenv('API_KEY')\n",
    "\n",
    "url = f'http://api.openweathermap.org/data/2.5/weather?q={city}&appid={api_key}&units=metric'\n",
    "\n",
    "res = requests.get(url)\n",
    "data = res.json()\n",
    "\n",
    "humidity = data['main']['humidity']\n",
    "pressure = data['main']['pressure']\n",
    "wind = data['wind']['speed']\n",
    "description = data['weather'][0]['description']\n",
    "temp = data['main']['temp']\n",
    "\n",
    "print('Temperature:',temp,'°C')\n",
    "print('Wind:',wind)\n",
    "print('Pressure: ',pressure)\n",
    "print('Humidity: ',humidity)\n",
    "print('Description:',description)\n"
   ]
  }
 ],
 "metadata": {
  "kernelspec": {
   "display_name": ".venv",
   "language": "python",
   "name": "python3"
  },
  "language_info": {
   "codemirror_mode": {
    "name": "ipython",
    "version": 3
   },
   "file_extension": ".py",
   "mimetype": "text/x-python",
   "name": "python",
   "nbconvert_exporter": "python",
   "pygments_lexer": "ipython3",
   "version": "3.13.1"
  }
 },
 "nbformat": 4,
 "nbformat_minor": 5
}
