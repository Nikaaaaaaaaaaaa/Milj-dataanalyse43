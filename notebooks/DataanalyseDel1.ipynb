{
 "cells": [
  {
   "cell_type": "markdown",
   "id": "aef03b76",
   "metadata": {},
   "source": [
    "# Miljødataanalyse - Del 1, Oppgave 2."
   ]
  },
  {
   "cell_type": "code",
   "execution_count": 1,
   "id": "8747e3a7",
   "metadata": {},
   "outputs": [
    {
     "name": "stdout",
     "output_type": "stream",
     "text": [
      "c:\\Users\\betja\\OneDrive - NTNU\\2025VårProgrammering\\Milj-dataanalyse43\\notebooks\n"
     ]
    }
   ],
   "source": [
    "# Sjekk directory\n",
    "import os\n",
    "print(os.getcwd())"
   ]
  },
  {
   "cell_type": "code",
   "execution_count": 2,
   "id": "feae5bca",
   "metadata": {},
   "outputs": [
    {
     "name": "stdout",
     "output_type": "stream",
     "text": [
      "Temperature: 8.31 °C\n",
      "Wind: 2.06\n",
      "Pressure:  1017\n",
      "Humidity:  50\n",
      "Description: broken clouds\n"
     ]
    }
   ],
   "source": [
    "import requests\n",
    "import os\n",
    "from dotenv import load_dotenv\n",
    "load_dotenv()\n",
    "\n",
    "api_key = os.getenv('API_KEY')\n",
    "\n",
    "city = 'Oslo'\n",
    "\n",
    "api_key = os.getenv('API_KEY')\n",
    "\n",
    "url = f'http://api.openweathermap.org/data/2.5/weather?q={city}&appid={api_key}&units=metric'\n",
    "\n",
    "res = requests.get(url)\n",
    "data = res.json()\n",
    "\n",
    "humidity = data['main']['humidity']\n",
    "pressure = data['main']['pressure']\n",
    "wind = data['wind']['speed']\n",
    "description = data['weather'][0]['description']\n",
    "temp = data['main']['temp']\n",
    "\n",
    "print('Temperature:',temp,'°C')\n",
    "print('Wind:',wind)\n",
    "print('Pressure: ',pressure)\n",
    "print('Humidity: ',humidity)\n",
    "print('Description:',description)\n"
   ]
  }
 ],
 "metadata": {
  "kernelspec": {
   "display_name": ".venv",
   "language": "python",
   "name": "python3"
  },
  "language_info": {
   "codemirror_mode": {
    "name": "ipython",
    "version": 3
   },
   "file_extension": ".py",
   "mimetype": "text/x-python",
   "name": "python",
   "nbconvert_exporter": "python",
   "pygments_lexer": "ipython3",
   "version": "3.13.1"
  }
 },
 "nbformat": 4,
 "nbformat_minor": 5
}
