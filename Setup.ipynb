{
 "cells": [
  {
   "cell_type": "code",
   "execution_count": null,
   "metadata": {},
   "outputs": [
    {
     "name": "stdout",
     "output_type": "stream",
     "text": [
      "Utviklingsmiljøet er klart!\n"
     ]
    }
   ],
   "source": [
    "#Prosjekt Del 1, Oppgave 1\n",
    "print(\"Utviklingsmiljøet er klart!\")\n",
    "\n",
    "#Markus Var her.\n",
    "\n",
    "#Nika var her og."
   ]
  },
  {
   "cell_type": "code",
   "execution_count": null,
   "metadata": {},
   "outputs": [],
   "source": [
    "#Del 1 Jupyter fil oppretting\n",
    "import nbformat as nbf\n",
    "\n",
    "nb = nbf.v4.new_notebook()\n",
    "text = \"\"\"\\\n",
    "# Miljødataanalyse - Del 1, Oppgave 2.\"\"\"\n",
    "\n",
    "code = \"\"\"\\\n",
    "print(\"test jupyter file oppretelse\");\"\"\"\n",
    "\n",
    "nb['cells'] = [nbf.v4.new_markdown_cell(text),\n",
    "               nbf.v4.new_code_cell(code)]\n",
    "\n",
    "fname = 'notebooks/DataanalyseDel1.ipynb'\n",
    "\n",
    "with open(fname, 'w') as f:\n",
    "    nbf.write(nb, f)"
   ]
  },
  {
   "cell_type": "markdown",
   "metadata": {},
   "source": [
    "#Anndre ting å gjøre:\n",
    "\n",
    "- Lage en requirements.txt folder som spesifiserer hva som skal være installert for at programmet skal kunne kjøre. --Sikkert numpy og pandas\n",
    "- \n",
    "\n",
    "- numpy, matplotlib, og pandas\n",
    "- bruk kap 9 og 10"
   ]
  },
  {
   "cell_type": "code",
   "execution_count": null,
   "metadata": {},
   "outputs": [],
   "source": [
    "print('Whassup bitches!')"
   ]
  },
  {
   "cell_type": "code",
   "execution_count": null,
   "metadata": {},
   "outputs": [],
   "source": [
    "print(\"test 2 sup\")"
   ]
  }
 ],
 "metadata": {
  "kernelspec": {
   "display_name": "Python 3",
   "language": "python",
   "name": "python3"
  },
  "language_info": {
   "codemirror_mode": {
    "name": "ipython",
    "version": 3
   },
   "file_extension": ".py",
   "mimetype": "text/x-python",
   "name": "python",
   "nbconvert_exporter": "python",
   "pygments_lexer": "ipython3",
   "version": "3.13.1"
  }
 },
 "nbformat": 4,
 "nbformat_minor": 2
}
